{
 "cells": [
  {
   "cell_type": "markdown",
   "id": "cb227664-4f38-443e-b6a5-ac21b1ce9e04",
   "metadata": {},
   "source": [
    "# Optimization Packages in Python"
   ]
  },
  {
   "cell_type": "markdown",
   "id": "572ef3ce-484a-40c8-99a9-0464f5a76f0b",
   "metadata": {},
   "source": [
    "**Linear programming** is a set of techniques used in mathematical programming, sometimes called mathematical optimization, to solve systems of linear equations and inequalities while maximizing or minimizing some linear function.\n",
    "\n",
    "**Mixed-integer linear programming** is an extension of linear programming. It handles problems in which at least one variable takes a discrete integer rather than a continuous value. Although mixed-integer problems look similar to continuous variable problems at first sight, they offer significant advantages in terms of flexibility and precision.\n",
    "\n",
    "## Table of Contents\n",
    "\n",
    "* [Scipy Library](#Scipy-Library)\n",
    "* [PulP Library](#PulP-Library)\n",
    "* [OR Tools Library](#OR-Tools-Library)\n",
    "* [Pyomo](#Pyomo)\n",
    "* [Other Open Source Solvers](#Other-Open-Source-Solvers)\n",
    "\n"
   ]
  },
  {
   "cell_type": "markdown",
   "id": "fffcabc7-b4b8-41fc-ad16-cd72c80844e0",
   "metadata": {
    "tags": []
   },
   "source": [
    "## Scipy Library\n",
    "[*Back to Table of Contents*](#Table-of-Contents)"
   ]
  },
  {
   "cell_type": "code",
   "execution_count": 1,
   "id": "5a64866b-0f50-4560-ba62-1eb85536cc92",
   "metadata": {},
   "outputs": [],
   "source": [
    "# Install Package\n",
    "# !pip install scipy"
   ]
  },
  {
   "cell_type": "markdown",
   "id": "930e2cb2-663a-4280-b457-34dc09c6f8d0",
   "metadata": {},
   "source": [
    "### Define the problem\n"
   ]
  },
  {
   "cell_type": "markdown",
   "id": "ba52ffd3-ad68-43a0-8e82-fa3af34448aa",
   "metadata": {},
   "source": [
    "Maximize z = x + 2y \n",
    "subject to the following constraints:\n",
    "* 2x + y ≤ 20\n",
    "* -4x + 5y ≤ 10\n",
    "* -x + 2y ≥ -2\n",
    "* -x + 5y = 15 \n",
    "* x ≥ 0\n",
    "* y ≥ 0\n",
    "\n",
    "However, Transform to: \\\n",
    "Minimize -z = -x - 2y \n",
    "subject to the following constraints:\n",
    "* 2x + y ≤ 20\n",
    "* -4x + 5y ≤ 10\n",
    "* x - 2y ≤ 2\n",
    "* -x + 5y = 15 \n",
    "* x ≥ 0\n",
    "* y ≥ 0"
   ]
  },
  {
   "cell_type": "code",
   "execution_count": 2,
   "id": "65a4aa83-d088-44af-893e-e789ee5119de",
   "metadata": {},
   "outputs": [],
   "source": [
    "from scipy.optimize import linprog"
   ]
  },
  {
   "cell_type": "markdown",
   "id": "470dc747-a10d-406b-b043-01b2dc10fecf",
   "metadata": {},
   "source": [
    "### Define inputs of solver"
   ]
  },
  {
   "cell_type": "code",
   "execution_count": 3,
   "id": "049dcdb8-1a6a-4d05-b1c4-241cbc87691d",
   "metadata": {},
   "outputs": [],
   "source": [
    "obj = [-1, -2]\n",
    "#      ─┬  ─┬\n",
    "#       │   └┤ Coefficient for y\n",
    "#       └────┤ Coefficient for x\n",
    "\n",
    "lhs_ineq = [[ 2,  1],  # Red constraint left side\n",
    "            [-4,  5],  # Blue constraint left side\n",
    "            [ 1, -2]]  # Yellow constraint left side\n",
    "\n",
    "rhs_ineq = [20,  # Red constraint right side\n",
    "            10,  # Blue constraint right side\n",
    "            2]   # Yellow constraint right side\n",
    "\n",
    "lhs_eq = [[-1, 5]]  # Green constraint left side\n",
    "rhs_eq = [15]       # Green constraint right side\n",
    "\n",
    "bnd = [(0, float(\"inf\")),  # Bounds of x\n",
    "       (0, float(\"inf\"))]  # Bounds of y"
   ]
  },
  {
   "cell_type": "markdown",
   "id": "7bb08781-b2a4-4642-bb7b-7f3ee3e89a95",
   "metadata": {
    "tags": []
   },
   "source": [
    "### Solve the problem"
   ]
  },
  {
   "cell_type": "code",
   "execution_count": 4,
   "id": "0803a3d1-baea-4737-8bc7-3d1aaf50cfa7",
   "metadata": {},
   "outputs": [
    {
     "name": "stdout",
     "output_type": "stream",
     "text": [
      "     con: array([0.])\n",
      "     fun: -16.818181818181817\n",
      " message: 'Optimization terminated successfully.'\n",
      "     nit: 3\n",
      "   slack: array([ 0.        , 18.18181818,  3.36363636])\n",
      "  status: 0\n",
      " success: True\n",
      "       x: array([7.72727273, 4.54545455])\n"
     ]
    }
   ],
   "source": [
    "opt = linprog(c=obj, A_ub=lhs_ineq, b_ub=rhs_ineq,\n",
    "              A_eq=lhs_eq, b_eq=rhs_eq, bounds=bnd,\n",
    "              method=\"revised simplex\")\n",
    "print(opt)"
   ]
  },
  {
   "cell_type": "markdown",
   "id": "267f96ed-a7cc-479c-b3d2-d5b1b2bcddb7",
   "metadata": {},
   "source": [
    "### Limitations of Scipy\n",
    "\n",
    "* SciPy can’t run various external solvers.\n",
    "* SciPy can’t run various external solvers.\n",
    "* SciPy can’t work with integer decision variables.\n",
    "* SciPy doesn’t provide classes or functions that facilitate model building. You have to define arrays and matrices, which might be a tedious and error-prone task for large problems.\n",
    "* SciPy doesn’t allow you to define maximization problems directly. You must convert them to minimization problems.\n",
    "* SciPy doesn’t allow you to define constraints using the greater-than-or-equal-to sign directly. You must use the less-than-or-equal-to instead."
   ]
  },
  {
   "cell_type": "markdown",
   "id": "210a49cd-92ed-495b-a4e6-839b56d35051",
   "metadata": {},
   "source": [
    "## PulP Library\n",
    "\n",
    "[*Back to Table of Contents*](#Table-of-Contents)"
   ]
  },
  {
   "cell_type": "code",
   "execution_count": 5,
   "id": "fd0df84b-a5f0-4929-9fbd-ea3b7aedf0ac",
   "metadata": {},
   "outputs": [],
   "source": [
    "# Install packages\n",
    "# !pip install pulp"
   ]
  },
  {
   "cell_type": "markdown",
   "id": "47705497-9d77-4c0b-a7fc-33a3f8a75594",
   "metadata": {},
   "source": [
    "### List of Solvers for PulP"
   ]
  },
  {
   "cell_type": "code",
   "execution_count": 6,
   "id": "0789cdfb-5483-45bc-9dc8-bbe86435575a",
   "metadata": {},
   "outputs": [
    {
     "name": "stdout",
     "output_type": "stream",
     "text": [
      "['GLPK_CMD', 'PYGLPK', 'CPLEX_CMD', 'CPLEX_PY', 'GUROBI', 'GUROBI_CMD', 'MOSEK', 'XPRESS', 'PULP_CBC_CMD', 'COIN_CMD', 'COINMP_DLL', 'CHOCO_CMD', 'MIPCL_CMD', 'SCIP_CMD']\n",
      "['GLPK_CMD', 'PULP_CBC_CMD']\n"
     ]
    }
   ],
   "source": [
    "import pulp\n",
    "print(pulp.listSolvers())\n",
    "print(pulp.listSolvers(onlyAvailable = True))"
   ]
  },
  {
   "cell_type": "markdown",
   "id": "1211283b-4888-4d3a-af16-addf8949c215",
   "metadata": {},
   "source": [
    "### Solve using Default Solver"
   ]
  },
  {
   "cell_type": "code",
   "execution_count": 7,
   "id": "e1f633ca-dcfc-4099-9bb2-5c0616d35e9a",
   "metadata": {},
   "outputs": [
    {
     "name": "stdout",
     "output_type": "stream",
     "text": [
      "MODEL: \n",
      "small-problem:\n",
      "MAXIMIZE\n",
      "1*x + 2*y + 0\n",
      "SUBJECT TO\n",
      "red_constraint: 2 x + y <= 20\n",
      "\n",
      "blue_constraint: 4 x - 5 y >= -10\n",
      "\n",
      "yellow_constraint: - x + 2 y >= -2\n",
      "\n",
      "green_constraint: - x + 5 y = 15\n",
      "\n",
      "VARIABLES\n",
      "x Continuous\n",
      "y Continuous\n",
      "\n",
      "SOLUTION:\n",
      "status: 1, Optimal\n",
      "objective: 16.8181817\n",
      "x: 7.7272727\n",
      "y: 4.5454545\n",
      "red_constraint: -9.99999993922529e-08\n",
      "blue_constraint: 18.181818300000003\n",
      "yellow_constraint: 3.3636362999999996\n",
      "green_constraint: -2.0000000233721948e-07\n",
      "Solver: <pulp.apis.coin_api.PULP_CBC_CMD object at 0x0000022C18071BB0>\n"
     ]
    }
   ],
   "source": [
    "from pulp import LpMaximize, LpProblem, LpStatus, lpSum, LpVariable\n",
    "\n",
    "# Create the model\n",
    "model = LpProblem(name=\"small-problem\", sense=LpMaximize)\n",
    "\n",
    "# Initialize the decision variables\n",
    "x = LpVariable(name=\"x\", lowBound=0)\n",
    "y = LpVariable(name=\"y\", lowBound=0)\n",
    "\n",
    "# Add the constraints to the model\n",
    "model += (2 * x + y <= 20, \"red_constraint\")\n",
    "model += (4 * x - 5 * y >= -10, \"blue_constraint\")\n",
    "model += (-x + 2 * y >= -2, \"yellow_constraint\")\n",
    "model += (-x + 5 * y == 15, \"green_constraint\")\n",
    "\n",
    "# Add the objective function to the model\n",
    "model += lpSum([x, 2 * y])\n",
    "print('MODEL: ')\n",
    "print(model)\n",
    "\n",
    "# Solve the problem\n",
    "status = model.solve()\n",
    "\n",
    "# Print results\n",
    "print('SOLUTION:')\n",
    "print(f\"status: {model.status}, {LpStatus[model.status]}\")\n",
    "print(f\"objective: {model.objective.value()}\")\n",
    "for var in model.variables():\n",
    "    print(f\"{var.name}: {var.value()}\")\n",
    "\n",
    "for name, constraint in model.constraints.items():\n",
    "    print(f\"{name}: {constraint.value()}\")\n",
    "\n",
    "    \n",
    "print(f'Solver: {model.solver}')"
   ]
  },
  {
   "cell_type": "markdown",
   "id": "12a6d1cc-3f22-4044-9f53-0ba48fa81cdf",
   "metadata": {},
   "source": [
    "### Solve Using Different Solver: GLPK\n",
    "\n",
    "* GLPK Documentation : https://www.gnu.org/software/glpk/\n",
    "\n",
    "* Download GLPK using  conda thru the following command: `conda install -c conda-forge glpk` or visit https://anaconda.org/conda-forge/glpk"
   ]
  },
  {
   "cell_type": "code",
   "execution_count": 8,
   "id": "77e3aa1c-a10e-463f-984c-1661e3495c5c",
   "metadata": {},
   "outputs": [
    {
     "name": "stdout",
     "output_type": "stream",
     "text": [
      "SOLUTION:\n",
      "status: 1, Optimal\n",
      "objective: 16.81817\n",
      "x: 7.72727\n",
      "y: 4.54545\n",
      "red_constraint: -1.0000000000509601e-05\n",
      "blue_constraint: 18.181830000000005\n",
      "yellow_constraint: 3.3636299999999997\n",
      "green_constraint: -2.000000000279556e-05\n",
      "Solver: <pulp.apis.glpk_api.GLPK_CMD object at 0x0000022C18111280>\n"
     ]
    }
   ],
   "source": [
    "from pulp import GLPK\n",
    "\n",
    "# Create the model\n",
    "model = LpProblem(name=\"small-problem\", sense=LpMaximize)\n",
    "\n",
    "# # Initialize the decision variables and with Integer Values\n",
    "# x = LpVariable(name=\"x\", lowBound=0, cat=\"Integer\")\n",
    "# y = LpVariable(name=\"y\", lowBound=0, cat=\"Integer\")\n",
    "\n",
    "# Initialize the decision variables \n",
    "x = LpVariable(name=\"x\", lowBound=0)\n",
    "y = LpVariable(name=\"y\", lowBound=0)\n",
    "\n",
    "# Add the constraints to the model\n",
    "model += (2 * x + y <= 20, \"red_constraint\")\n",
    "model += (4 * x - 5 * y >= -10, \"blue_constraint\")\n",
    "model += (-x + 2 * y >= -2, \"yellow_constraint\")\n",
    "model += (-x + 5 * y == 15, \"green_constraint\")\n",
    "\n",
    "# Add the objective function to the model\n",
    "model += lpSum([x, 2 * y])\n",
    "\n",
    "# Solve the problem\n",
    "status = model.solve(solver=GLPK(msg=False))\n",
    "\n",
    "# Print results\n",
    "print('SOLUTION:')\n",
    "print(f\"status: {model.status}, {LpStatus[model.status]}\")\n",
    "print(f\"objective: {model.objective.value()}\")\n",
    "for var in model.variables():\n",
    "    print(f\"{var.name}: {var.value()}\")\n",
    "\n",
    "for name, constraint in model.constraints.items():\n",
    "    print(f\"{name}: {constraint.value()}\")\n",
    "\n",
    "print(f'Solver: {model.solver}')"
   ]
  },
  {
   "cell_type": "markdown",
   "id": "22581e2c-ad6f-456a-a95f-bb04d67b9fc9",
   "metadata": {
    "tags": []
   },
   "source": [
    "## OR Tools Library\n",
    "\n",
    "Link: https://github.com/google/or-tools\n",
    "\n",
    "[*Back to Table of Contents*](#Table-of-Contents)\n"
   ]
  },
  {
   "cell_type": "code",
   "execution_count": 9,
   "id": "5d20510d-8726-4fe5-a368-c72f8c355861",
   "metadata": {},
   "outputs": [],
   "source": [
    "# Install Packaages\n",
    "#!pip install ortools"
   ]
  },
  {
   "cell_type": "code",
   "execution_count": 10,
   "id": "26ca3e1e-473d-413f-97c7-d06e095d77f4",
   "metadata": {},
   "outputs": [
    {
     "name": "stdout",
     "output_type": "stream",
     "text": [
      "Number of variables = 2\n",
      "Number of constraints = 4\n",
      "Solution:\n",
      "Objective value = 16.81818181818182\n",
      "x = 7.72727272727273\n",
      "y = 4.545454545454546\n"
     ]
    }
   ],
   "source": [
    "from ortools.linear_solver import pywraplp\n",
    "from ortools.init import pywrapinit\n",
    "\n",
    "\n",
    "# Create the linear solver with the GLOP backend.\n",
    "solver = pywraplp.Solver.CreateSolver('GLOP')\n",
    "\n",
    "# Create the variables x and y.\n",
    "infinity = solver.infinity()\n",
    "x = solver.NumVar(lb=0, ub=infinity, name='x')\n",
    "y = solver.NumVar(lb=0, ub=infinity, name='y')\n",
    "print('Number of variables =', solver.NumVariables())\n",
    "\n",
    "# Create a linear constraint\n",
    "solver.Add(2 * x + y <= 20)\n",
    "solver.Add(4 * x - 5 * y >= -10)\n",
    "solver.Add(-x + 2 * y >= -2)\n",
    "solver.Add(-x + 5 * y == 15)\n",
    "print('Number of constraints =', solver.NumConstraints())\n",
    "\n",
    "# Create the objective function.\n",
    "solver.Maximize(x + 2 * y)\n",
    "\n",
    "# Solve and Print the Problem\n",
    "status = solver.Solve()\n",
    "if status == pywraplp.Solver.OPTIMAL:\n",
    "    print('Solution:')\n",
    "    print('Objective value =', solver.Objective().Value())\n",
    "    print('x =', x.solution_value())\n",
    "    print('y =', y.solution_value())\n",
    "else:\n",
    "    print('The problem does not have an optimal solution.')"
   ]
  },
  {
   "cell_type": "markdown",
   "id": "be4e5ced-04d1-41cb-bb22-4d95962a4312",
   "metadata": {},
   "source": [
    "## Pyomo\n",
    "\n",
    "[*Back to Table of Contents*](#Table-of-Contents)"
   ]
  },
  {
   "cell_type": "code",
   "execution_count": 11,
   "id": "e520f43b-6eb3-42a6-84e4-bd6577bf2aa3",
   "metadata": {},
   "outputs": [],
   "source": [
    "# Install packages\n",
    "# !pip install pyomo"
   ]
  },
  {
   "cell_type": "code",
   "execution_count": 12,
   "id": "45b4eb28-d650-4e33-be7e-aad236eb2891",
   "metadata": {},
   "outputs": [
    {
     "name": "stdout",
     "output_type": "stream",
     "text": [
      "# ==========================================================\n",
      "# = Solver Results                                         =\n",
      "# ==========================================================\n",
      "# ----------------------------------------------------------\n",
      "#   Problem Information\n",
      "# ----------------------------------------------------------\n",
      "Problem: \n",
      "- Name: unknown\n",
      "  Lower bound: 16.8181818181818\n",
      "  Upper bound: 16.8181818181818\n",
      "  Number of objectives: 1\n",
      "  Number of constraints: 5\n",
      "  Number of variables: 3\n",
      "  Number of nonzeros: 9\n",
      "  Sense: maximize\n",
      "# ----------------------------------------------------------\n",
      "#   Solver Information\n",
      "# ----------------------------------------------------------\n",
      "Solver: \n",
      "- Status: ok\n",
      "  Termination condition: optimal\n",
      "  Statistics: \n",
      "    Branch and bound: \n",
      "      Number of bounded subproblems: 0\n",
      "      Number of created subproblems: 0\n",
      "  Error rc: 0\n",
      "  Time: 0.09146571159362793\n",
      "# ----------------------------------------------------------\n",
      "#   Solution Information\n",
      "# ----------------------------------------------------------\n",
      "Solution: \n",
      "- number of solutions: 0\n",
      "  number of solutions displayed: 0\n",
      "2 Var Declarations\n",
      "    x : Size=1, Index=None\n",
      "        Key  : Lower : Value            : Upper : Fixed : Stale : Domain\n",
      "        None :     0 : 7.72727272727273 :  None : False : False : NonNegativeReals\n",
      "    y : Size=1, Index=None\n",
      "        Key  : Lower : Value            : Upper : Fixed : Stale : Domain\n",
      "        None :     0 : 4.54545454545454 :  None : False : False : NonNegativeReals\n",
      "\n",
      "1 Objective Declarations\n",
      "    profit : Size=1, Index=None, Active=True\n",
      "        Key  : Active : Sense    : Expression\n",
      "        None :   True : maximize : x + 2*y\n",
      "\n",
      "4 Constraint Declarations\n",
      "    blue_constraint : Size=1, Index=None, Active=True\n",
      "        Key  : Lower : Body      : Upper : Active\n",
      "        None : -10.0 : 4*x - 5*y :  +Inf :   True\n",
      "    green_constraint : Size=1, Index=None, Active=True\n",
      "        Key  : Lower : Body      : Upper : Active\n",
      "        None :  15.0 : - x + 5*y :  15.0 :   True\n",
      "    red_constraint : Size=1, Index=None, Active=True\n",
      "        Key  : Lower : Body    : Upper : Active\n",
      "        None :  -Inf : 2*x + y :  20.0 :   True\n",
      "    yellow_constraint : Size=1, Index=None, Active=True\n",
      "        Key  : Lower : Body      : Upper : Active\n",
      "        None :  -2.0 : - x + 2*y :  +Inf :   True\n",
      "\n",
      "7 Declarations: x y profit red_constraint blue_constraint yellow_constraint green_constraint\n",
      "\n",
      "Profit =  16.81818181818181\n",
      "\n",
      "Decision Variables\n",
      "x =  7.72727272727273\n",
      "y =  4.54545454545454\n",
      "\n",
      "Constraints\n",
      "red_constraint  =  20.0\n",
      "blue_constraint =  8.181818181818223\n",
      "yellow_constraint =  1.363636363636349\n",
      "green_constraint =  14.999999999999968\n"
     ]
    }
   ],
   "source": [
    "from pyomo.environ import *\n",
    "\n",
    "# Create the model object\n",
    "model = ConcreteModel()\n",
    "\n",
    "# Add the Decision Variables, Objective, and Constraints to the model object\n",
    "model.x = Var(domain=NonNegativeReals)\n",
    "model.y = Var(domain=NonNegativeReals)\n",
    "model.profit = Objective(expr = 1*model.x + 2*model.y, sense=maximize)\n",
    "\n",
    "model.red_constraint = Constraint(expr = 2 * model.x + model.y <= 20)\n",
    "model.blue_constraint = Constraint(expr = 4 * model.x - 5 * model.y >= -10)\n",
    "model.yellow_constraint = Constraint(expr = -model.x + 2 * model.y >= -2)\n",
    "model.green_constraint = Constraint(expr = -model.x + 5 * model.y == 15)\n",
    "\n",
    "\n",
    "# Create a solver object and solve\n",
    "results = SolverFactory('glpk').solve(model)\n",
    "results.write()\n",
    "if results.solver.status == 'ok':\n",
    "    model.pprint()\n",
    "\n",
    "    \n",
    "# display solution\n",
    "print('\\nProfit = ', model.profit())\n",
    "print('\\nDecision Variables')\n",
    "print('x = ', model.x())\n",
    "print('y = ', model.y())\n",
    "print('\\nConstraints')\n",
    "print('red_constraint  = ', model.red_constraint())\n",
    "print('blue_constraint = ', model.blue_constraint())\n",
    "print('yellow_constraint = ', model.yellow_constraint())\n",
    "print('green_constraint = ', model.green_constraint())"
   ]
  },
  {
   "cell_type": "markdown",
   "id": "6fdae3a7-3e39-4c0b-a39e-f6ff25b02b2f",
   "metadata": {},
   "source": [
    "### Using Arrays"
   ]
  },
  {
   "cell_type": "code",
   "execution_count": 13,
   "id": "9f1ef497-922a-4d53-bfbe-70509b77e4ce",
   "metadata": {},
   "outputs": [
    {
     "name": "stdout",
     "output_type": "stream",
     "text": [
      "x[ 0 ] = 7.72727272727273\n",
      "x[ 1 ] = 4.54545454545454\n",
      "constraints : Size=5\n",
      "    Key : Lower : Body               : Upper\n",
      "      1 :  None :               20.0 :  20.0\n",
      "      2 :  None : -8.181818181818223 :  10.0\n",
      "      3 :  None : -1.363636363636349 :   2.0\n",
      "      4 :  None : 14.999999999999968 :  15.0\n",
      "      5 :  15.0 : 14.999999999999968 :  15.0\n"
     ]
    }
   ],
   "source": [
    "from pyomo.environ import *\n",
    "import numpy as np\n",
    "\n",
    "# enter data as numpy arrays\n",
    "A = np.array([[2, 1], [-4, 5],[1,-2], [-1,5]]) # coefficient of constraints\n",
    "b = np.array([20, 10,2, 15])           # coefficient of max value of constraints\n",
    "c = np.array([1,2])                #coefficient of objective function\n",
    "\n",
    "# set of row indices\n",
    "I = range(len(A))\n",
    "\n",
    "# set of column indices\n",
    "J = range(len(A.T))\n",
    "\n",
    "# create a model instance\n",
    "model = ConcreteModel()\n",
    "\n",
    "# create x and y variables in the model\n",
    "model.x = Var(J)\n",
    "\n",
    "# add model constraints\n",
    "model.constraints = ConstraintList()\n",
    "for i in I:\n",
    "    model.constraints.add(sum(A[i,j]*model.x[j] for j in J) <= b[i])\n",
    "    if i == len(A)-1:\n",
    "        model.constraints.add(sum(A[i,j]*model.x[j] for j in J) == b[i])\n",
    "\n",
    "# add a model objective\n",
    "model.objective = Objective(expr = sum(c[j]*model.x[j] for j in J), sense=maximize)\n",
    "\n",
    "# create a solver\n",
    "solver = SolverFactory('glpk')\n",
    "\n",
    "# solve\n",
    "solver.solve(model)\n",
    "\n",
    "# print solutions\n",
    "for j in J:\n",
    "    print(\"x[\", j, \"] =\", model.x[j].value)\n",
    "\n",
    "model.constraints.display()"
   ]
  },
  {
   "cell_type": "markdown",
   "id": "304bb349-64ca-4ef2-ac83-3f1df6767fb7",
   "metadata": {},
   "source": [
    "## Other Open Source Solvers\n",
    "* CLP & CBC : https://github.com/coin-or/COIN-OR-OptimizationSuite \\\n",
    "`conda install -c conda-forge ipopt` \\\n",
    "`conda install -c conda-forge coincbc`\n",
    "\n",
    "* LP_SOLVE\n",
    "* GEKKO: https://github.com/BYU-PRISM/GEKKO\n",
    "* CVXOPT: https://github.com/cvxopt/cvxopt\n",
    "\n",
    "\n",
    "[*Back to Table of Contents*](#Table-of-Contents)"
   ]
  },
  {
   "cell_type": "code",
   "execution_count": null,
   "id": "a9e981bd-2e55-4e1e-aff9-964f702ad041",
   "metadata": {},
   "outputs": [],
   "source": []
  }
 ],
 "metadata": {
  "kernelspec": {
   "display_name": "Python 3 (ipykernel)",
   "language": "python",
   "name": "python3"
  },
  "language_info": {
   "codemirror_mode": {
    "name": "ipython",
    "version": 3
   },
   "file_extension": ".py",
   "mimetype": "text/x-python",
   "name": "python",
   "nbconvert_exporter": "python",
   "pygments_lexer": "ipython3",
   "version": "3.9.7"
  }
 },
 "nbformat": 4,
 "nbformat_minor": 5
}
